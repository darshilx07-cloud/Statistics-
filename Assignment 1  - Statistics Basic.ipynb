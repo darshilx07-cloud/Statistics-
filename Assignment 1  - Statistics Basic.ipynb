{
 "cells": [
  {
   "cell_type": "markdown",
   "id": "116cb745-01ac-43a4-ac55-6f35f36cb503",
   "metadata": {},
   "source": [
    "# **Statistics Basic**"
   ]
  },
  {
   "cell_type": "raw",
   "id": "b617e66e-cb28-46bc-bb91-615fddaddbed",
   "metadata": {},
   "source": []
  },
  {
   "cell_type": "markdown",
   "id": "4f8f6c7f-8cf7-4b84-a6f9-3e7b5a232047",
   "metadata": {},
   "source": [
    "## ***Theory Questions & Answers***"
   ]
  },
  {
   "cell_type": "raw",
   "id": "d819dae6-534c-406e-8c2d-d36d77b8402f",
   "metadata": {},
   "source": []
  },
  {
   "cell_type": "markdown",
   "id": "0f00be62-de68-4bca-8c15-1ed7d3dc12ed",
   "metadata": {},
   "source": [
    "#### Q1. What is statistics, and why is it important?\n",
    "\n",
    "\n",
    "Ans. Statistics is the study of data—how we collect it, analyze it, interpret it, and present it. It's important because it\n",
    "helps us understand patterns, make decisions, and solve problems in everyday life, like figuring out trends in\n",
    "sales or predicting the weather."
   ]
  },
  {
   "cell_type": "code",
   "execution_count": null,
   "id": "792fd8eb-b265-47e7-b92e-06a20c56ab4c",
   "metadata": {},
   "outputs": [],
   "source": []
  },
  {
   "cell_type": "markdown",
   "id": "f73d599f-ae34-4ffa-b07d-2ae450302cf1",
   "metadata": {},
   "source": [
    "##### Q2. What are the two main types of statistics?\n",
    "\n",
    "Ans. The two main types are :\n",
    " \n",
    " - Descriptive Statistics, which focuses on summarizing data (e.g., calculating the average marks in a class)\u001f\n",
    " - Inferential Statistics, which involves making predictions about a larger group based on a smaller sample\n",
    "(e.g., predicting election results using a survey)."
   ]
  },
  {
   "cell_type": "code",
   "execution_count": null,
   "id": "dda936b4-c23c-404d-a269-38b36aa05d8d",
   "metadata": {},
   "outputs": [],
   "source": []
  },
  {
   "cell_type": "markdown",
   "id": "c4f2a393-5511-41db-a6b3-ec95c7938a71",
   "metadata": {},
   "source": [
    "##### Q3. What are descriptive statistics?\n",
    "\n",
    "Ans. Descriptive statistics is all about organizing and summarizing data. For example, instead of looking at\n",
    "individual test scores of a class, you might calculate the average score or find out the highest and lowest\n",
    "scores."
   ]
  },
  {
   "cell_type": "code",
   "execution_count": null,
   "id": "ed5d58f6-620e-476a-93db-41ec528046df",
   "metadata": {},
   "outputs": [],
   "source": []
  },
  {
   "cell_type": "markdown",
   "id": "00baf7ca-3741-4ca6-8249-59d78202ea56",
   "metadata": {},
   "source": [
    "##### Q4. What is inferential statistics?\n",
    "\n",
    "Ans. Inferential statistics lets you make guesses about a population based on a smaller sample. For example, if\n",
    "you survey 1,000 people in a city about their favorite restaurant, inferential statistics helps you estimate the\n",
    "preferences of the entire city's population."
   ]
  },
  {
   "cell_type": "code",
   "execution_count": null,
   "id": "af6c42a2-abbf-426e-b257-67279d120595",
   "metadata": {},
   "outputs": [],
   "source": []
  },
  {
   "cell_type": "markdown",
   "id": "27b6288f-78a3-4439-b875-0ee5cae97fc9",
   "metadata": {},
   "source": [
    "##### Q5. What is sampling in statistics?\n",
    "Ans. Sampling is when you select a small group (sample) from a larger group (population) to study. It’s like\n",
    "tasting a spoonful of soup to decide if the whole pot needs more salt."
   ]
  },
  {
   "cell_type": "code",
   "execution_count": null,
   "id": "afe7fdbf-dbe7-489d-b77a-69b5e84bdd46",
   "metadata": {},
   "outputs": [],
   "source": []
  },
  {
   "cell_type": "markdown",
   "id": "00e19676-bf48-4cc6-9d21-eb2173b9bbdc",
   "metadata": {},
   "source": [
    "##### Q6. What are the different types of sampling methods?\n",
    "Ans. There are several types of sampling :\n",
    "\n",
    "- Random Sampling, where everyone has an equal chance of being selected\u001f\n",
    "- Stratified Sampling, where the population is divided into groups, and samples are taken from each group\u001f\n",
    "- Systematic Sampling, where you pick every nth person\u001f\n",
    "- Cluster Sampling, where you randomly select entire groups rather than individuals."
   ]
  },
  {
   "cell_type": "code",
   "execution_count": null,
   "id": "bf86ceef-d168-49d2-a412-aa690637829a",
   "metadata": {},
   "outputs": [],
   "source": []
  },
  {
   "cell_type": "markdown",
   "id": "2b2e7fb8-cf7c-4178-8cb9-4fe32cd10492",
   "metadata": {},
   "source": [
    "##### Q7. What is the difference between random and non-random sampling?\n",
    "Ans. In random sampling, everyone in the population has an equal chance of being chosen, like drawing names\n",
    "from a hat. In non-random sampling, selection isn’t random, and bias might creep in, like only surveying\n",
    "people who are easy to reach."
   ]
  },
  {
   "cell_type": "code",
   "execution_count": null,
   "id": "f4b4cb36-66c8-46fe-b3cb-0b0d20fe443f",
   "metadata": {},
   "outputs": [],
   "source": []
  },
  {
   "cell_type": "markdown",
   "id": "5cc80293-331d-4c40-8af7-e280c35a2d97",
   "metadata": {},
   "source": [
    "##### Q8. Define and give examples of qualitative and quantitative data?\n",
    "Ans.  Qualitative Data: Describes qualities, like eye color or types of cars.\n",
    "\n",
    "- Example: Red, blue, and green are eye colors\u001f\n",
    " \n",
    "Quantitative Data: Involves numbers, like height or age.\n",
    "\n",
    "- Example: 5 feet 7 inches tall, 25 years old."
   ]
  },
  {
   "cell_type": "code",
   "execution_count": null,
   "id": "4d68e560-ff12-4ca8-8a9f-4e2292549f44",
   "metadata": {},
   "outputs": [],
   "source": []
  },
  {
   "cell_type": "markdown",
   "id": "d4240f2e-a016-4a79-a010-59215d957d8a",
   "metadata": {},
   "source": [
    "##### Q9. What are the different types of data in statistics?\n",
    "Ans. Data can be:\n",
    "- Nominal: Names or labels (e.g., colors of cars).\n",
    "- Ordinal: Ordered categories (e.g., small, medium, large sizes).\n",
    "- Interval: Numeric with no true zero (e.g., temperature in Celsius).\n",
    "- Ratio: Numeric with a true zero (e.g., weight in kilograms)."
   ]
  },
  {
   "cell_type": "code",
   "execution_count": null,
   "id": "4748421e-5267-4a38-acae-dce1aaf774be",
   "metadata": {},
   "outputs": [],
   "source": []
  },
  {
   "cell_type": "markdown",
   "id": "0319c78e-b8b0-4a1e-859d-e224c48807ba",
   "metadata": {},
   "source": [
    "##### Q10. Explain nominal, ordinal, interval, and ratio levels of measurement?\n",
    "- Nominal: Categories without order (e.g., fruits like apples or oranges)\u001f\n",
    "- Ordinal: Categories with order (e.g., satisfaction levels like good, better, best)\u001f\n",
    "- Interval: Numeric, equal intervals, no true zero (e.g., 20°C vs. 40°C)\u001f\n",
    "- Ratio: Numeric, equal intervals, true zero (e.g., 0 kilograms means no weight)."
   ]
  },
  {
   "cell_type": "code",
   "execution_count": null,
   "id": "27909242-4c15-407f-9e06-1d4dde7823f1",
   "metadata": {},
   "outputs": [],
   "source": []
  },
  {
   "cell_type": "markdown",
   "id": "2165a8bc-d77b-4eef-b468-bae0a3a529e0",
   "metadata": {},
   "source": [
    "##### Q11. What is the measure of central tendency?\n",
    "- It’s a way to find the “center” or typical value of a dataset. Common examples are the mean (average),\n",
    "median (middle value), and mode (most frequent value)."
   ]
  },
  {
   "cell_type": "code",
   "execution_count": null,
   "id": "f722cdcc-fd2b-4a4a-a208-802540327e39",
   "metadata": {},
   "outputs": [],
   "source": []
  },
  {
   "cell_type": "markdown",
   "id": "d776bcd5-961f-4ae7-bf99-05a1c1e83ecc",
   "metadata": {},
   "source": [
    "##### Q12. Define mean, median, and mode?\n",
    "###### Ans. Mean: Add all numbers and divide by how many there are.\n",
    "- Example: The mean of 2, 4, and 6 is 4.\n",
    "\n",
    "###### Median: The middle value when data is ordeed.\n",
    "- Example: In 1, 3, and 5, the median is 3.\n",
    "\n",
    "###### Mode: The value that appears most often.\n",
    "Example: In 1, 2, 2, 3, the mode is 2."
   ]
  },
  {
   "cell_type": "code",
   "execution_count": null,
   "id": "ff9841d0-b0e4-4085-99e0-d04c7c736128",
   "metadata": {},
   "outputs": [],
   "source": []
  },
  {
   "cell_type": "markdown",
   "id": "6a29a8e2-aa27-4ae7-8a02-8b9facf54b77",
   "metadata": {},
   "source": [
    "##### Q13. What is the significance of the measure of central tendency?\n",
    "Ans. It helps summarize a large dataset with a single value, making it easier to understand and compare different\n",
    "datasets.\n"
   ]
  },
  {
   "cell_type": "code",
   "execution_count": null,
   "id": "220190f6-49ce-4fc1-8299-d25fe9d066cb",
   "metadata": {},
   "outputs": [],
   "source": []
  },
  {
   "cell_type": "markdown",
   "id": "af1c5aff-6daa-4b2d-a730-9bfc7ba60aa1",
   "metadata": {},
   "source": [
    "##### Q14. What is variance, and how is it calculated?\n",
    "Ans. Variance shows how spread out the numbers in a dataset are. To calculate it, you find the average of the\n",
    "squared differences from the mean.\n"
   ]
  },
  {
   "cell_type": "code",
   "execution_count": null,
   "id": "3476e709-8baa-4c26-b989-7fa4049b71bd",
   "metadata": {},
   "outputs": [],
   "source": []
  },
  {
   "cell_type": "markdown",
   "id": "664b4a6b-0be5-4d9b-b3ee-7fe87b4da3bd",
   "metadata": {},
   "source": [
    "##### Q15. What is standard deviation, and why is it important?\n",
    "Ans. Standard deviation measures the average distance of data points from the mean. It’s important because it\n",
    "tells you how much variation exists in your data."
   ]
  },
  {
   "cell_type": "code",
   "execution_count": null,
   "id": "e41fbada-d685-4198-b37c-aba93520459f",
   "metadata": {},
   "outputs": [],
   "source": []
  },
  {
   "cell_type": "markdown",
   "id": "fef586b4-d650-496d-8f26-88b076fe5afa",
   "metadata": {},
   "source": [
    "##### Q16. Define and explain the term range in statistics?\n",
    "Ans. The range is the difference between the highest and lowest values in a dataset. For example, if the highest\n",
    "mark is 90 and the lowest is 50, the range is 40.\n"
   ]
  },
  {
   "cell_type": "code",
   "execution_count": null,
   "id": "f8ec6d20-76b4-4545-b9c6-be69f4923684",
   "metadata": {},
   "outputs": [],
   "source": []
  },
  {
   "cell_type": "markdown",
   "id": "ab66cd5d-55bb-45c6-9908-208b7699bda8",
   "metadata": {},
   "source": [
    "##### Q17. What is the difference between variance and standard deviation?\n",
    "Ans. Variance is the average of the squared differences from the mean, while standard deviation is the square\n",
    "root of variance. Standard deviation is easier to interpret because it’s in the same units as the data.\n",
    "\n"
   ]
  },
  {
   "cell_type": "code",
   "execution_count": null,
   "id": "3d4a5991-f12a-4d40-95e3-089cc0ea3dbd",
   "metadata": {},
   "outputs": [],
   "source": []
  },
  {
   "cell_type": "markdown",
   "id": "c281ee5b-bba3-444b-8c0a-23da9454c1ad",
   "metadata": {},
   "source": [
    "##### Q18. What is skewness in a dataset?\n",
    "Ans. Skewness measures how much a dataset is tilted to one side. A positive skew means a longer tail on the\n",
    "right, while a negative skew means a longer tail on the left."
   ]
  },
  {
   "cell_type": "code",
   "execution_count": null,
   "id": "02bf2074-4d91-4871-b091-456b78ac7b66",
   "metadata": {},
   "outputs": [],
   "source": []
  },
  {
   "cell_type": "markdown",
   "id": "bf469490-045f-4f36-b57d-abc5caa29fb9",
   "metadata": {},
   "source": [
    "##### Q19. What does it mean if a dataset is positively or negatively skewed_\n",
    "Ans. **Positively Skewed:** Most data points are on the lower side, with a tail on the higher side (e.g., income distribution).\n",
    "\n",
    "**Negatively Skewed:** Most data points are on the higher side, with a tail on the lower side.\n"
   ]
  },
  {
   "cell_type": "code",
   "execution_count": null,
   "id": "ee284af2-ff8e-4c87-a881-134850e171dc",
   "metadata": {},
   "outputs": [],
   "source": []
  },
  {
   "cell_type": "markdown",
   "id": "24de207a-195d-47ba-96d6-8812b27022a0",
   "metadata": {},
   "source": [
    "##### Q20. Define and explain kurtosis?\n",
    "Ans. Kurtosis is about how “pointy” or “flat” a distribution is. High kurtosis means heavy tails and outliers, while low kurtosis indicates a flatter distribution.\n"
   ]
  },
  {
   "cell_type": "code",
   "execution_count": null,
   "id": "fcaeb8db-a598-4bf7-af26-4c66843a752f",
   "metadata": {},
   "outputs": [],
   "source": []
  },
  {
   "cell_type": "markdown",
   "id": "7d670073-87bc-477c-bda1-6201b4549ace",
   "metadata": {},
   "source": [
    "##### Q21. What is the purpose of covariance?\n",
    "Ans. Covariance shows how two variables change together. If they increase together, covariance is positive. If one\n",
    "increases while the other decreases, it’s negative.\n"
   ]
  },
  {
   "cell_type": "code",
   "execution_count": null,
   "id": "bf62efc3-12e3-440f-af0a-f0708d01ddc0",
   "metadata": {},
   "outputs": [],
   "source": []
  },
  {
   "cell_type": "markdown",
   "id": "52a1f31b-d132-4ea5-aa4e-040227873611",
   "metadata": {},
   "source": [
    "##### Q22. What does correlation measure in statistics?\n",
    "Ans. Correlation measures the strength and direction of the relationship between two variables. A correlation of 1\n",
    "means a perfect positive relationship, while -1 means a perfect negative relationship.\n"
   ]
  },
  {
   "cell_type": "code",
   "execution_count": null,
   "id": "89e1c94d-c254-434f-bcd3-2e5c9cc86718",
   "metadata": {},
   "outputs": [],
   "source": []
  },
  {
   "cell_type": "markdown",
   "id": "9e94d032-df06-4055-8cf7-74836fc7d88b",
   "metadata": {},
   "source": [
    "##### Q23. What is the difference between covariance and correlation?\n",
    "Ans. Covariance tells you the direction of the relationship, but its value depends on the scale of the variables.\n",
    "Correlation standardizes this relationship, making it easier to interpret.\n",
    "\n"
   ]
  },
  {
   "cell_type": "code",
   "execution_count": null,
   "id": "19178697-ca77-4adb-89f1-093aa1f6728a",
   "metadata": {},
   "outputs": [],
   "source": []
  },
  {
   "cell_type": "markdown",
   "id": "4735deff-57c2-478b-91ec-c9c62cea4389",
   "metadata": {},
   "source": [
    "##### Q24. What are some real-world applications of statistics?\n",
    "Ans. Statistics are used everywhere! In business, it’s used for sales forecasting. In healthcare, it’s used to study\n",
    "disease patterns. Even in sports, stats are used to analyze player performance."
   ]
  },
  {
   "cell_type": "code",
   "execution_count": null,
   "id": "ca323570-9912-4e33-9417-3f481d8c238b",
   "metadata": {},
   "outputs": [],
   "source": []
  },
  {
   "cell_type": "code",
   "execution_count": null,
   "id": "4398a87e-9271-4597-88b4-b6455438036f",
   "metadata": {},
   "outputs": [],
   "source": []
  },
  {
   "cell_type": "markdown",
   "id": "82efd7a0-0292-4ecd-9545-69981e3e4ee0",
   "metadata": {},
   "source": [
    "## ***Practical Questions & Answers***"
   ]
  },
  {
   "cell_type": "code",
   "execution_count": null,
   "id": "864a30de-2654-4fec-8291-6427654b9b0d",
   "metadata": {},
   "outputs": [],
   "source": []
  },
  {
   "cell_type": "code",
   "execution_count": null,
   "id": "35f88004-692b-4e8f-9813-94b1a1ef59ee",
   "metadata": {},
   "outputs": [],
   "source": [
    "#Q1. Calculate the mean, median, and mode of a dataset?\n",
    "\n",
    "import numpy as np\n",
    "from scipy import stats\n",
    "\n",
    "data = [1, 2, 3, 4, 5, 5, 6, 7]\n",
    "\n",
    "mean = np.mean(data)\n",
    "median = np.median(data)\n",
    "mode = stats.mode(data)\n",
    "\n",
    "# The mode object returns a ModeResult with mode and count, so we directly access mode\n",
    "print(f\"Mean: {mean}\")\n",
    "print(f\"Median: {median}\")\n",
    "print(f\"Mode: {mode.mode}\")  # Mode is already returned as an array, so no need to index it"
   ]
  },
  {
   "cell_type": "code",
   "execution_count": null,
   "id": "6e21f5d2-c76f-47c1-9f7e-71c88271e671",
   "metadata": {},
   "outputs": [],
   "source": []
  },
  {
   "cell_type": "code",
   "execution_count": null,
   "id": "f08954c4-c974-4e39-a9bb-3a0ed49d9cca",
   "metadata": {},
   "outputs": [],
   "source": [
    "#Q2. Compute the variance and standard deviation of a dataset?\n",
    "\n",
    "# Import required library\n",
    "import numpy as np\n",
    "\n",
    "# Define the dataset\n",
    "data = [2, 4, 4, 4, 5, 5, 7, 9]\n",
    "\n",
    "# Calculate variance and standard deviation\n",
    "variance = np.var(data, ddof=1)  # Sample variance\n",
    "std_dev = np.std(data, ddof=1)  # Sample standard deviation\n",
    "\n",
    "# Print results\n",
    "print(f\"Variance: {variance}\")\n",
    "print(f\"Standard Deviation: {std_dev}\")"
   ]
  },
  {
   "cell_type": "code",
   "execution_count": null,
   "id": "1c715acd-5b6d-4586-97cf-d24aab76699e",
   "metadata": {},
   "outputs": [],
   "source": []
  },
  {
   "cell_type": "code",
   "execution_count": null,
   "id": "f354e47c-f773-464c-8496-e4e8f34ec721",
   "metadata": {},
   "outputs": [],
   "source": [
    "#Q3. Classify a dataset into nominal, ordinal, interval, and ratio types?\n",
    "\n",
    "# Nominal data: Categories without a specific order\n",
    "colors = ['Red', 'Blue', 'Green']\n",
    "\n",
    "# Ordinal data: Categories with a meaningful order\n",
    "sizes = ['Small', 'Medium', 'Large']\n",
    "\n",
    "# Interval data: Numerical data with meaningful differences but no true zero\n",
    "temperatures = [-10, 0, 10, 20, 30]\n",
    "\n",
    "# Ratio data: Numerical data with a true zero point\n",
    "weights = [0, 50, 75, 100]\n",
    "\n",
    "# Print classifications\n",
    "print(\"Nominal Data:\", colors)\n",
    "print(\"Ordinal Data:\", sizes)\n",
    "print(\"Interval Data:\", temperatures)\n",
    "print(\"Ratio Data:\", weights)"
   ]
  },
  {
   "cell_type": "code",
   "execution_count": null,
   "id": "c3a7f7d7-b3df-4a19-9b32-331b23438c7e",
   "metadata": {},
   "outputs": [],
   "source": []
  },
  {
   "cell_type": "code",
   "execution_count": null,
   "id": "62fa034a-988b-4217-afb8-269b56b993bc",
   "metadata": {},
   "outputs": [],
   "source": [
    "#Q4. Implement random sampling and stratified sampling?\n",
    "\n",
    "# Import required libraries\n",
    "import pandas as pd\n",
    "from sklearn.model_selection import train_test_split\n",
    "\n",
    "# Define a sample dataset\n",
    "data = pd.DataFrame({\n",
    "    'Name': ['A', 'B', 'C', 'D', 'E'],\n",
    "    'Score': [90, 85, 88, 70, 95],\n",
    "    'Category': ['High', 'High', 'Medium', 'Low', 'High']\n",
    "})\n",
    "\n",
    "# Random sampling\n",
    "random_sample = data.sample(n=2)\n",
    "\n",
    "# Stratified sampling\n",
    "stratified_sample = data.groupby('Category', group_keys=False).apply(lambda x: x.sample(1))\n",
    "\n",
    "# Print results\n",
    "print(\"Random Sample:\")\n",
    "print(random_sample)\n",
    "print(\"\\nStratified Sample:\")\n",
    "print(stratified_sample)"
   ]
  },
  {
   "cell_type": "code",
   "execution_count": null,
   "id": "a944f295-e9c5-43cb-a838-3957bd430f2e",
   "metadata": {},
   "outputs": [],
   "source": []
  },
  {
   "cell_type": "code",
   "execution_count": null,
   "id": "b2012142-21a3-484f-a02c-4e040d01eb85",
   "metadata": {},
   "outputs": [],
   "source": [
    "#Q5. Write a Python function to calculate the range of a dataset?\n",
    "\n",
    "def calculate_range(data):\n",
    "    if not data:\n",
    "        return None  # Handle empty dataset\n",
    "    return max(data) - min(data)\n"
   ]
  },
  {
   "cell_type": "code",
   "execution_count": null,
   "id": "49e37ddb-64d1-4393-b758-7ba490a59888",
   "metadata": {},
   "outputs": [],
   "source": []
  },
  {
   "cell_type": "code",
   "execution_count": null,
   "id": "edb92bca-fd34-44e7-b01c-1f2f152c2fba",
   "metadata": {},
   "outputs": [],
   "source": [
    "#Q6. Plot a histogram to visualize skewness?\n",
    "\n",
    "# Import required library\n",
    "import matplotlib.pyplot as plt\n",
    "\n",
    "# Define the dataset\n",
    "data = [1, 2, 2, 3, 3, 3, 4, 5, 6, 6, 7]\n",
    "\n",
    "# Create and display a histogram\n",
    "plt.hist(data, bins=6, edgecolor='black')\n",
    "plt.title('Histogram of Dataset')\n",
    "plt.xlabel('Data')\n",
    "plt.ylabel('Frequency')\n",
    "plt.show()"
   ]
  },
  {
   "cell_type": "code",
   "execution_count": null,
   "id": "cfc03dbf-749c-4b53-ae73-796bf10723d9",
   "metadata": {},
   "outputs": [],
   "source": []
  },
  {
   "cell_type": "code",
   "execution_count": null,
   "id": "5e9e10a3-edbf-48d8-a275-18966c59f2b1",
   "metadata": {},
   "outputs": [],
   "source": [
    "#Q7. Calculate skewness and kurtosis?\n",
    "\n",
    "# Import required library\n",
    "from scipy.stats import skew, kurtosis\n",
    "\n",
    "# Define the dataset\n",
    "data = [1, 2, 2, 3, 4, 5, 6, 6, 7]\n",
    "\n",
    "# Calculate skewness and kurtosis\n",
    "skewness = skew(data)\n",
    "kurt = kurtosis(data)\n",
    "\n",
    "# Print results\n",
    "print(f\"Skewness: {skewness}\")\n",
    "print(f\"Kurtosis: {kurt}\")"
   ]
  },
  {
   "cell_type": "code",
   "execution_count": null,
   "id": "8436ac39-a9a1-401a-8c42-d1fc6ff068af",
   "metadata": {},
   "outputs": [],
   "source": []
  },
  {
   "cell_type": "code",
   "execution_count": null,
   "id": "44c30f62-1f2e-4cde-b83e-f39fa0907501",
   "metadata": {},
   "outputs": [],
   "source": [
    "#Q8. Demonstrate positive and negative skewness?\n",
    "\n",
    "# Import required libraries\n",
    "import matplotlib.pyplot as plt\n",
    "import seaborn as sns\n",
    "\n",
    "# Define datasets\n",
    "positive_skew = [1, 2, 3, 4, 5, 6, 20]\n",
    "negative_skew = [1, 2, 10, 11, 12, 13, 14]\n",
    "\n",
    "# Plot positive skew\n",
    "sns.histplot(positive_skew, kde=True, color=\"blue\")\n",
    "plt.title(\"Positive Skew\")\n",
    "plt.xlabel(\"Data\")\n",
    "plt.ylabel(\"Frequency\")\n",
    "plt.show()\n",
    "\n",
    "# Plot negative skew\n",
    "sns.histplot(negative_skew, kde=True, color=\"red\")\n",
    "plt.title(\"Negative Skew\")\n",
    "plt.xlabel(\"Data\")\n",
    "plt.ylabel(\"Frequency\")\n",
    "plt.show()"
   ]
  },
  {
   "cell_type": "code",
   "execution_count": null,
   "id": "1a39a452-f31c-40f7-8d76-5e6b727075b5",
   "metadata": {},
   "outputs": [],
   "source": []
  },
  {
   "cell_type": "code",
   "execution_count": null,
   "id": "8eb58cce-3096-4b96-b55d-a0210f6612a3",
   "metadata": {},
   "outputs": [],
   "source": [
    "#Q9. Calculate covariance between two datasets?\n",
    "\n",
    "# Import required library\n",
    "import numpy as np\n",
    "\n",
    "# Define datasets\n",
    "x = [1, 2, 3, 4, 5]\n",
    "y = [2, 4, 6, 8, 10]\n",
    "\n",
    "# Calculate covariance\n",
    "covariance = np.cov(x, y)[0][1]\n",
    "\n",
    "# Print result\n",
    "print(f\"Covariance: {covariance}\")"
   ]
  },
  {
   "cell_type": "code",
   "execution_count": null,
   "id": "fa9c3af7-245f-435b-bb11-9667b6df8e91",
   "metadata": {},
   "outputs": [],
   "source": []
  },
  {
   "cell_type": "code",
   "execution_count": null,
   "id": "7f888f26-dd78-4963-956a-187bd59cb1a1",
   "metadata": {},
   "outputs": [],
   "source": [
    "#Q10. Calculate the correlation coefficient between two datasets?\n",
    "\n",
    "# Import required library\n",
    "import numpy as np\n",
    "\n",
    "# Define datasets\n",
    "x = [1, 2, 3, 4, 5]\n",
    "y = [2, 4, 6, 8, 10]\n",
    "\n",
    "# Calculate correlation coefficient\n",
    "correlation = np.corrcoef(x, y)[0][1]\n",
    "\n",
    "# Print result\n",
    "print(f\"Correlation Coefficient: {correlation}\")"
   ]
  },
  {
   "cell_type": "code",
   "execution_count": null,
   "id": "9d61ba09-97ac-4227-99e5-ec6149aa7853",
   "metadata": {},
   "outputs": [],
   "source": []
  },
  {
   "cell_type": "code",
   "execution_count": null,
   "id": "4c3b4278-9806-47ac-823e-61786f31f4b0",
   "metadata": {},
   "outputs": [],
   "source": [
    "#Q11. Create a scatter plot to visualize the relationship between two variables?\n",
    "\n",
    "# Import required libraries\n",
    "import matplotlib.pyplot as plt\n",
    "\n",
    "# Define two variables\n",
    "x = [1, 2, 3, 4, 5]\n",
    "y = [2, 4, 5, 7, 11]\n",
    "\n",
    "# Create a scatter plot\n",
    "plt.scatter(x, y, color='blue', edgecolors='black')\n",
    "plt.title('Scatter Plot of X vs Y')\n",
    "plt.xlabel('X')\n",
    "plt.ylabel('Y')\n",
    "plt.grid(True)\n",
    "plt.show()"
   ]
  },
  {
   "cell_type": "code",
   "execution_count": null,
   "id": "6b53d284-99fe-4ea8-8695-9c5eb842f750",
   "metadata": {},
   "outputs": [],
   "source": []
  },
  {
   "cell_type": "code",
   "execution_count": null,
   "id": "3c463671-b969-43e6-84c1-bc711df27660",
   "metadata": {},
   "outputs": [],
   "source": [
    "#Q12. Implement and compare simple random sampling and systematic sampling?\n",
    "\n",
    "# Import required library\n",
    "import pandas as pd\n",
    "import numpy as np\n",
    "\n",
    "# Define a dataset\n",
    "data = pd.DataFrame({'ID': range(1, 21), 'Value': np.random.randint(1, 100, 20)})\n",
    "\n",
    "# Simple random sampling\n",
    "random_sample = data.sample(n=5)\n",
    "\n",
    "# Systematic sampling\n",
    "step = 4\n",
    "systematic_sample = data.iloc[::step]\n",
    "\n",
    "# Print results\n",
    "print(\"Simple Random Sampling:\\n\", random_sample)\n",
    "print(\"\\nSystematic Sampling:\\n\", systematic_sample)"
   ]
  },
  {
   "cell_type": "code",
   "execution_count": null,
   "id": "2399bf2f-80d4-4a80-b707-bba1db3a2fcb",
   "metadata": {},
   "outputs": [],
   "source": []
  },
  {
   "cell_type": "code",
   "execution_count": null,
   "id": "931cc9af-099c-4423-871a-93dd1c1d5e8c",
   "metadata": {},
   "outputs": [],
   "source": [
    "#Q13. Calculate the mean, median, and mode of grouped data?\n",
    "\n",
    "# Import required libraries\n",
    "import pandas as pd\n",
    "\n",
    "# Define grouped data (class intervals and frequencies)\n",
    "grouped_data = pd.DataFrame({\n",
    "    'Class Interval': ['0-10', '10-20', '20-30', '30-40'],\n",
    "    'Frequency': [5, 8, 10, 7]\n",
    "})\n",
    "\n",
    "# Calculate midpoints\n",
    "grouped_data['Midpoint'] = grouped_data['Class Interval'].apply(lambda x: (int(x.split('-')[0]) + int(x.split('-')[1])) / 2)\n",
    "\n",
    "# Calculate mean\n",
    "mean = sum(grouped_data['Midpoint'] * grouped_data['Frequency']) / sum(grouped_data['Frequency'])\n",
    "\n",
    "# Print result\n",
    "print(\"Grouped Data:\\n\", grouped_data)\n",
    "print(f\"\\nMean of Grouped Data: {mean}\")"
   ]
  },
  {
   "cell_type": "code",
   "execution_count": null,
   "id": "c77f4c44-50fb-4ed5-b261-0fb060bc9ed8",
   "metadata": {},
   "outputs": [],
   "source": []
  },
  {
   "cell_type": "code",
   "execution_count": null,
   "id": "4b512793-b38b-4572-800b-d3a4c35b18a7",
   "metadata": {},
   "outputs": [],
   "source": [
    "#14. Simulate data using Python and calculate its central tendency and dispersion?\n",
    "\n",
    "# Import required libraries\n",
    "import numpy as np\n",
    "import statistics\n",
    "\n",
    "# Simulate data\n",
    "data = np.random.randint(1, 100, 50)\n",
    "\n",
    "# Calculate central tendency and dispersion\n",
    "mean = np.mean(data)\n",
    "median = np.median(data)\n",
    "mode = statistics.mode(data)\n",
    "variance = np.var(data)\n",
    "std_dev = np.std(data)\n",
    "\n",
    "# Print results\n",
    "print(f\"Mean: {mean}\")\n",
    "print(f\"Median: {median}\")\n",
    "print(f\"Mode: {mode}\")\n",
    "print(f\"Variance: {variance}\")\n",
    "print(f\"Standard Deviation: {std_dev}\")"
   ]
  },
  {
   "cell_type": "code",
   "execution_count": null,
   "id": "6f90d5cf-4626-472f-ab95-52affbe48cfa",
   "metadata": {},
   "outputs": [],
   "source": []
  },
  {
   "cell_type": "code",
   "execution_count": null,
   "id": "8ead9ff6-90c6-4d4e-80f7-4a7e7154e927",
   "metadata": {},
   "outputs": [],
   "source": [
    "#Q15. Use NumPy or pandas to summarize a dataset’s descriptive statistics?\n",
    "\n",
    "# Import required library\n",
    "import pandas as pd\n",
    "\n",
    "# Create a dataset\n",
    "data = pd.DataFrame({'Value': [10, 20, 30, 40, 50, 60, 70, 80, 90]})\n",
    "\n",
    "# Summarize dataset\n",
    "summary = data.describe()\n",
    "\n",
    "# Print summary\n",
    "print(\"Descriptive Statistics:\\n\", summary)"
   ]
  },
  {
   "cell_type": "code",
   "execution_count": null,
   "id": "e9a4a48d-8924-475c-a756-a079ac672207",
   "metadata": {},
   "outputs": [],
   "source": []
  },
  {
   "cell_type": "code",
   "execution_count": null,
   "id": "013ff558-5f8f-49df-98c8-99331bba0f25",
   "metadata": {},
   "outputs": [],
   "source": [
    "#Q16. Plot a boxplot to understand the spread and identify outliers?\n",
    "\n",
    "# Import required library\n",
    "import matplotlib.pyplot as plt\n",
    "\n",
    "# Define a dataset\n",
    "data = [5, 7, 8, 9, 10, 11, 12, 14, 100]  # 100 is an outlier\n",
    "\n",
    "# Plot a boxplot\n",
    "plt.boxplot(data, vert=False, patch_artist=True)\n",
    "plt.title('Boxplot to Identify Outliers')\n",
    "plt.xlabel('Value')\n",
    "plt.show()"
   ]
  },
  {
   "cell_type": "code",
   "execution_count": null,
   "id": "38918c00-68b2-43f1-b348-716d3a52124b",
   "metadata": {},
   "outputs": [],
   "source": []
  },
  {
   "cell_type": "code",
   "execution_count": null,
   "id": "e2ed3802-c28a-486c-9abb-773d778fe943",
   "metadata": {},
   "outputs": [],
   "source": [
    "#Q17. Calculate the interquartile range (IQR) of a dataset?\n",
    "\n",
    "# Import required library\n",
    "import numpy as np\n",
    "\n",
    "# Define a dataset\n",
    "data = [5, 7, 8, 9, 10, 11, 12, 14, 100]\n",
    "\n",
    "# Calculate Q1, Q3, and IQR\n",
    "q1 = np.percentile(data, 25)\n",
    "q3 = np.percentile(data, 75)\n",
    "iqr = q3 - q1\n",
    "\n",
    "# Print results\n",
    "print(f\"Q1: {q1}, Q3: {q3}, IQR: {iqr}\")"
   ]
  },
  {
   "cell_type": "code",
   "execution_count": null,
   "id": "41ed8eef-1637-43b2-8dc7-4dbe2e3bc1df",
   "metadata": {},
   "outputs": [],
   "source": []
  },
  {
   "cell_type": "code",
   "execution_count": null,
   "id": "f8454eb2-40ee-4ac3-aecd-46303fff1c6c",
   "metadata": {},
   "outputs": [],
   "source": [
    "#18. Implement Z-score normalization and explain its significance?\n",
    "\n",
    "# Import required library\n",
    "import numpy as np\n",
    "\n",
    "# Define a dataset\n",
    "data = [10, 20, 30, 40, 50]\n",
    "\n",
    "# Calculate mean and standard deviation\n",
    "mean = np.mean(data)\n",
    "std_dev = np.std(data)\n",
    "\n",
    "# Apply Z-score normalization\n",
    "z_scores = [(x - mean) / std_dev for x in data]\n",
    "\n",
    "# Print results\n",
    "print(\"Original Data:\", data)\n",
    "print(\"Z-Scores:\", z_scores)"
   ]
  },
  {
   "cell_type": "code",
   "execution_count": null,
   "id": "fefbde9f-c2e5-42ad-8f4a-4c7b139dae89",
   "metadata": {},
   "outputs": [],
   "source": []
  },
  {
   "cell_type": "code",
   "execution_count": null,
   "id": "3ad6cf61-6bef-4b33-aef8-f3b8e2d79c75",
   "metadata": {},
   "outputs": [],
   "source": [
    "#Q19. Compare two datasets using their standard deviations?\n",
    "\n",
    "# Import required library\n",
    "import numpy as np\n",
    "\n",
    "# Define two datasets\n",
    "data1 = [10, 12, 14, 16, 18]\n",
    "data2 = [8, 9, 12, 15, 22]\n",
    "\n",
    "# Calculate standard deviations\n",
    "std_dev1 = np.std(data1)\n",
    "std_dev2 = np.std(data2)\n",
    "\n",
    "# Print comparison\n",
    "print(f\"Standard Deviation of Data1: {std_dev1}\")\n",
    "print(f\"Standard Deviation of Data2: {std_dev2}\")"
   ]
  },
  {
   "cell_type": "code",
   "execution_count": null,
   "id": "7b0cda16-3d64-4e8a-b947-fd6676585bde",
   "metadata": {},
   "outputs": [],
   "source": []
  },
  {
   "cell_type": "code",
   "execution_count": null,
   "id": "aa167b04-58cb-49d6-9689-14d95f3439c5",
   "metadata": {},
   "outputs": [],
   "source": [
    "#Q20. Visualize covariance using a heatmap?\n",
    "\n",
    "# Import required libraries\n",
    "import seaborn as sns\n",
    "import pandas as pd\n",
    "import numpy as np\n",
    "\n",
    "# Define a dataset\n",
    "data = pd.DataFrame({\n",
    "    'A': np.random.randint(1, 100, 10),\n",
    "    'B': np.random.randint(1, 100, 10)\n",
    "})\n",
    "\n",
    "# Calculate covariance\n",
    "cov_matrix = data.cov()\n",
    "\n",
    "# Visualize covariance using heatmap\n",
    "sns.heatmap(cov_matrix, annot=True, cmap=\"coolwarm\")\n",
    "plt.title('Covariance Heatmap')\n",
    "plt.show()"
   ]
  },
  {
   "cell_type": "code",
   "execution_count": null,
   "id": "18f456e5-1b58-4181-8e15-140acd22e235",
   "metadata": {},
   "outputs": [],
   "source": []
  },
  {
   "cell_type": "code",
   "execution_count": null,
   "id": "ae4ce515-f72b-4cab-b240-45a23238664c",
   "metadata": {},
   "outputs": [],
   "source": [
    "#Q21. Use seaborn to create a correlation matrix for a dataset?\n",
    "\n",
    "# Import required libraries\n",
    "import seaborn as sns\n",
    "import pandas as pd\n",
    "import numpy as np\n",
    "import matplotlib.pyplot as plt\n",
    "\n",
    "# Create a dataset\n",
    "data = pd.DataFrame({\n",
    "    'A': np.random.randint(1, 100, 50),\n",
    "    'B': np.random.randint(1, 100, 50),\n",
    "    'C': np.random.randint(1, 100, 50),\n",
    "    'D': np.random.randint(1, 100, 50)\n",
    "})\n",
    "\n",
    "# Calculate the correlation matrix\n",
    "corr_matrix = data.corr()\n",
    "\n",
    "# Create a heatmap for the correlation matrix\n",
    "sns.heatmap(corr_matrix, annot=True, cmap=\"coolwarm\", linewidths=1)\n",
    "plt.title(\"Correlation Matrix\")\n",
    "plt.show()"
   ]
  },
  {
   "cell_type": "code",
   "execution_count": null,
   "id": "f223ef84-316f-49d2-913f-2175fe26f6ee",
   "metadata": {},
   "outputs": [],
   "source": []
  },
  {
   "cell_type": "code",
   "execution_count": null,
   "id": "24ab0733-1b6c-4ce0-84d1-66bb0879c419",
   "metadata": {},
   "outputs": [],
   "source": [
    "#Q22. Generate a dataset and implement both variance and standard deviation computations?\n",
    "\n",
    "# Import required library\n",
    "import numpy as np\n",
    "\n",
    "# Generate a random dataset\n",
    "data = np.random.randint(1, 100, 50)\n",
    "\n",
    "# Compute variance and standard deviation\n",
    "variance = np.var(data)\n",
    "std_dev = np.std(data)\n",
    "\n",
    "# Print results\n",
    "print(f\"Variance: {variance}\")\n",
    "print(f\"Standard Deviation: {std_dev}\")"
   ]
  },
  {
   "cell_type": "code",
   "execution_count": null,
   "id": "8d34470a-243c-4936-b898-c7adb8ae5124",
   "metadata": {},
   "outputs": [],
   "source": []
  },
  {
   "cell_type": "code",
   "execution_count": null,
   "id": "efb93e46-0344-4675-abeb-873afcbb5f7e",
   "metadata": {},
   "outputs": [],
   "source": [
    "#Q23. Visualize skewness and kurtosis using Python libraries like matplotlib or seaborn?\n",
    "\n",
    "# Import required libraries\n",
    "import seaborn as sns\n",
    "import matplotlib.pyplot as plt\n",
    "from scipy.stats import kurtosis, skew\n",
    "import numpy as np\n",
    "\n",
    "# Create a random dataset with skewness\n",
    "data = np.random.exponential(scale=2, size=1000)\n",
    "\n",
    "# Plot histogram\n",
    "sns.histplot(data, kde=True)\n",
    "plt.title(\"Histogram with KDE to visualize Skewness\")\n",
    "plt.show()\n",
    "\n",
    "# Calculate skewness and kurtosis\n",
    "data_skewness = skew(data)\n",
    "data_kurtosis = kurtosis(data)\n",
    "\n",
    "# Print results\n",
    "print(f\"Skewness: {data_skewness}\")\n",
    "print(f\"Kurtosis: {data_kurtosis}\")"
   ]
  },
  {
   "cell_type": "code",
   "execution_count": null,
   "id": "3ab201d7-a5e3-4c51-a9bf-fd8b05bebc05",
   "metadata": {},
   "outputs": [],
   "source": []
  },
  {
   "cell_type": "code",
   "execution_count": null,
   "id": "4e151df2-cc1f-4881-a918-4e3e700f4c74",
   "metadata": {},
   "outputs": [],
   "source": [
    "#Q24. Implement the Pearson and Spearman correlation coefficients for a dataset?\n",
    "\n",
    "# Import required libraries\n",
    "import pandas as pd\n",
    "from scipy.stats import pearsonr, spearmanr\n",
    "\n",
    "# Create a dataset\n",
    "data = pd.DataFrame({\n",
    "    'X': [10, 20, 30, 40, 50],\n",
    "    'Y': [15, 25, 35, 45, 55]\n",
    "})\n",
    "\n",
    "# Pearson correlation\n",
    "pearson_corr, _ = pearsonr(data['X'], data['Y'])\n",
    "\n",
    "# Spearman correlation\n",
    "spearman_corr, _ = spearmanr(data['X'], data['Y'])\n",
    "\n",
    "# Print results\n",
    "print(f\"Pearson Correlation: {pearson_corr}\")\n",
    "print(f\"Spearman Correlation: {spearman_corr}\")"
   ]
  },
  {
   "cell_type": "code",
   "execution_count": null,
   "id": "384023d8-4922-42fc-a1c0-b66fc2387b4b",
   "metadata": {},
   "outputs": [],
   "source": []
  },
  {
   "cell_type": "markdown",
   "id": "3870dcd7-d0e5-4e30-b72f-11d6373fb97b",
   "metadata": {},
   "source": [
    "# **Thank You**"
   ]
  },
  {
   "cell_type": "code",
   "execution_count": null,
   "id": "22b62cea-7eff-4776-a64f-8e5ab192aff4",
   "metadata": {},
   "outputs": [],
   "source": []
  }
 ],
 "metadata": {
  "kernelspec": {
   "display_name": "Python 3 (ipykernel)",
   "language": "python",
   "name": "python3"
  },
  "language_info": {
   "codemirror_mode": {
    "name": "ipython",
    "version": 3
   },
   "file_extension": ".py",
   "mimetype": "text/x-python",
   "name": "python",
   "nbconvert_exporter": "python",
   "pygments_lexer": "ipython3",
   "version": "3.13.5"
  }
 },
 "nbformat": 4,
 "nbformat_minor": 5
}
